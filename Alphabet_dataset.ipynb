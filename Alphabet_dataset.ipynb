{
 "cells": [
  {
   "cell_type": "code",
   "execution_count": 8,
   "metadata": {
    "collapsed": true
   },
   "outputs": [
    {
     "data": {
      "text/html": [
       "<div>\n",
       "<table border=\"1\" class=\"dataframe\">\n",
       "  <thead>\n",
       "    <tr style=\"text-align: right;\">\n",
       "      <th></th>\n",
       "      <th>Date</th>\n",
       "      <th>Open</th>\n",
       "      <th>High</th>\n",
       "      <th>Low</th>\n",
       "      <th>Close</th>\n",
       "      <th>Volume</th>\n",
       "    </tr>\n",
       "  </thead>\n",
       "  <tbody>\n",
       "    <tr>\n",
       "      <th>0</th>\n",
       "      <td>27-Oct-17</td>\n",
       "      <td>1009.19</td>\n",
       "      <td>1048.39</td>\n",
       "      <td>1008.20</td>\n",
       "      <td>1019.27</td>\n",
       "      <td>5167689</td>\n",
       "    </tr>\n",
       "    <tr>\n",
       "      <th>1</th>\n",
       "      <td>26-Oct-17</td>\n",
       "      <td>980.00</td>\n",
       "      <td>987.60</td>\n",
       "      <td>972.20</td>\n",
       "      <td>972.56</td>\n",
       "      <td>2042149</td>\n",
       "    </tr>\n",
       "    <tr>\n",
       "      <th>2</th>\n",
       "      <td>25-Oct-17</td>\n",
       "      <td>968.37</td>\n",
       "      <td>976.09</td>\n",
       "      <td>960.52</td>\n",
       "      <td>973.33</td>\n",
       "      <td>1211262</td>\n",
       "    </tr>\n",
       "    <tr>\n",
       "      <th>3</th>\n",
       "      <td>24-Oct-17</td>\n",
       "      <td>970.00</td>\n",
       "      <td>972.23</td>\n",
       "      <td>961.00</td>\n",
       "      <td>970.54</td>\n",
       "      <td>1212153</td>\n",
       "    </tr>\n",
       "    <tr>\n",
       "      <th>4</th>\n",
       "      <td>23-Oct-17</td>\n",
       "      <td>989.52</td>\n",
       "      <td>989.52</td>\n",
       "      <td>966.12</td>\n",
       "      <td>968.45</td>\n",
       "      <td>1478448</td>\n",
       "    </tr>\n",
       "  </tbody>\n",
       "</table>\n",
       "</div>"
      ],
      "text/plain": [
       "<div>\n",
       "<table border=\"1\" class=\"dataframe\">\n",
       "  <thead>\n",
       "    <tr style=\"text-align: right;\">\n",
       "      <th></th>\n",
       "      <th>Date</th>\n",
       "      <th>Open</th>\n",
       "      <th>High</th>\n",
       "      <th>Low</th>\n",
       "      <th>Close</th>\n",
       "      <th>Volume</th>\n",
       "    </tr>\n",
       "  </thead>\n",
       "  <tbody>\n",
       "    <tr>\n",
       "      <th>0</th>\n",
       "      <td>27-Oct-17</td>\n",
       "      <td>1009.19</td>\n",
       "      <td>1048.39</td>\n",
       "      <td>1008.20</td>\n",
       "      <td>1019.27</td>\n",
       "      <td>5167689</td>\n",
       "    </tr>\n",
       "    <tr>\n",
       "      <th>1</th>\n",
       "      <td>26-Oct-17</td>\n",
       "      <td>980.00</td>\n",
       "      <td>987.60</td>\n",
       "      <td>972.20</td>\n",
       "      <td>972.56</td>\n",
       "      <td>2042149</td>\n",
       "    </tr>\n",
       "    <tr>\n",
       "      <th>2</th>\n",
       "      <td>25-Oct-17</td>\n",
       "      <td>968.37</td>\n",
       "      <td>976.09</td>\n",
       "      <td>960.52</td>\n",
       "      <td>973.33</td>\n",
       "      <td>1211262</td>\n",
       "    </tr>\n",
       "    <tr>\n",
       "      <th>3</th>\n",
       "      <td>24-Oct-17</td>\n",
       "      <td>970.00</td>\n",
       "      <td>972.23</td>\n",
       "      <td>961.00</td>\n",
       "      <td>970.54</td>\n",
       "      <td>1212153</td>\n",
       "    </tr>\n",
       "    <tr>\n",
       "      <th>4</th>\n",
       "      <td>23-Oct-17</td>\n",
       "      <td>989.52</td>\n",
       "      <td>989.52</td>\n",
       "      <td>966.12</td>\n",
       "      <td>968.45</td>\n",
       "      <td>1478448</td>\n",
       "    </tr>\n",
       "  </tbody>\n",
       "</table>\n",
       "</div>"
      ]
     },
     "execution_count": 8,
     "metadata": {},
     "output_type": "execute_result"
    }
   ],
   "source": [
    "import pandas as pd\n",
    "\n",
    "%matplotlib inline\n",
    "import matplotlib.pyplot as plt\n",
    "\n",
    "from ggplot import *\n",
    "\n",
    "df = pd.read_csv('alphabet.csv', encoding='utf-8-sig')\n",
    "df.head()"
   ]
  },
  {
   "cell_type": "code",
   "execution_count": 10,
   "metadata": {},
   "outputs": [
    {
     "data": {
      "text/plain": [
       "<matplotlib.axes._subplots.AxesSubplot at 0x7f69bceb7e10>"
      ]
     },
     "execution_count": 10,
     "metadata": {},
     "output_type": "execute_result"
    }
   ],
   "source": [
    "dates = pd.to_datetime(df['Date'].values)\n",
    "data_close = df['Close'].values\n",
    "\n",
    "data = {'Date': dates,\n",
    "        'Close': df['Close'].values}\n",
    "\n",
    "qwe = pd.DataFrame(data)\n",
    "\n",
    "qwe.fillna(1).plot()"
   ]
  },
  {
   "cell_type": "markdown",
   "metadata": {},
   "source": [
    "Historical chart"
   ]
  },
  {
   "cell_type": "code",
   "execution_count": null,
   "metadata": {},
   "outputs": [],
   "source": [
    ""
   ]
  },
  {
   "cell_type": "code",
   "execution_count": 65,
   "metadata": {},
   "outputs": [],
   "source": [
    "import csv\n",
    "\n",
    "dataset = csv.reader(open('alphabet.csv', 'r'))\n",
    "\n",
    "data_open = [x[1] for x in dataset]\n",
    "data_open.pop(0)\n",
    "data_open = [float(x) for x in data_open]"
   ]
  },
  {
   "cell_type": "code",
   "execution_count": null,
   "metadata": {},
   "outputs": [],
   "source": [
    ""
   ]
  }
 ],
 "metadata": {
  "kernelspec": {
   "display_name": "Python 3",
   "language": "python",
   "name": "python3"
  },
  "language_info": {
   "codemirror_mode": {
    "name": "ipython",
    "version": 3.0
   },
   "file_extension": ".py",
   "mimetype": "text/x-python",
   "name": "python",
   "nbconvert_exporter": "python",
   "pygments_lexer": "ipython3",
   "version": "3.4.3"
  }
 },
 "nbformat": 4,
 "nbformat_minor": 0
}